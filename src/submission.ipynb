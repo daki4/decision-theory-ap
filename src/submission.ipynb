{
 "cells": [
  {
   "cell_type": "markdown",
   "metadata": {},
   "source": [
    "# Connect4 Sprint 1:\n",
    "By:   Yordan Mitev & Vladislav Stefanov\n",
    "\n",
    "Date: 2024-05-20\n",
    "\n",
    "## Introduction:\n",
    "\n",
    "Connect4 is a game in which 2 players choose a color and take turns dropping colored tokens into a grid with raws and columns. The pieces fall straight down, occupying the lowest available space within the column. The objective of the game is to be the first to form a horizontal, vertical, or diagonal line of n (4 by default) of one's own tokens.\n",
    "\n",
    "Connect Four is a solved game. The first player can always win by playing a certain strategy.\n",
    "\n",
    "![Connect4 Game](https://user-images.githubusercontent.com/39765499/56462040-26ef7080-63b4-11e9-8f5a-7f0b4dec216d.gif)\n"
   ]
  },
  {
   "cell_type": "markdown",
   "id": "286f70e5-b571-4f4b-9c71-81d4395e876a",
   "metadata": {},
   "source": [
    "## Game Customization:\n",
    "\n",
    "We take the vanilla game of Connect 4 and we will first try to find the optimal strategy for a vanilla configuration, and then scale it up to a larger grid size, with larger required chains. \n",
    "\n",
    "Moreover, we can add stochastic variables like a chance for a token to not go in its right column, or redirect the inputs of certain columns to go to others, but that is to come in the next sprint.\n"
   ]
  },
  {
   "cell_type": "markdown",
   "metadata": {},
   "source": [
    "## External Contibutions:\n",
    "\n",
    "In order to understand the problem in details and how to approach it, we utilized an open-source solution [by Daniel Hernandez](https://github.com/Danielhp95/gym-connect4). We have investigated it, researched the software package and collaborated to understand its way of operation. \n",
    "\n",
    "In the next sprint we will alter, update, improve and extend it. In this sprint our main focus was to get us involved with the gymnasium, advance our skills in building MDPs, and understand better what is happening both conceptually and practically.\n"
   ]
  },
  {
   "cell_type": "markdown",
   "metadata": {},
   "source": [
    "## Starting Conditions:\n",
    "Empty playing field where rows and columns counts can be changed by the user. Additionally, the number of tokens to be connected (4 by default) can be given by the user. There is no winner and all positions are empty. One of the players starts first."
   ]
  },
  {
   "cell_type": "markdown",
   "metadata": {},
   "source": [
    "## Environment:\n",
    "The environment defines the rules of the game and the playing field:\n",
    "- the width of the grid\n",
    "- the height of the grid\n",
    "- the number of tokens to connect\n",
    "- the number of players\n",
    "- the possible positions in the grid\n",
    "\n",
    "And the environment also holds the current state of the game and actions possible."
   ]
  },
  {
   "cell_type": "markdown",
   "metadata": {},
   "source": [
    "\n",
    "## States:\n",
    "It is constructed out of:\n",
    "- All tokens' positions\n",
    "- Tokens' positions of Player A\n",
    "- Tokens' positions of Player B\n",
    "\n",
    "A naïve calculation of the state space size will be: `(X * Y) ^ 3`, also taking into account invalid states where a token rests above an empty cell."
   ]
  },
  {
   "cell_type": "markdown",
   "metadata": {},
   "source": [
    "## Actions:\n",
    "\n",
    "The action space is defined as:\n",
    "  - Releaseing a token in a column which:\n",
    "    - is in bounds of the playing field.\n",
    "    - is not full (i.e., there is at least one free spot in the column).\n"
   ]
  },
  {
   "cell_type": "markdown",
   "metadata": {},
   "source": [
    "## Rewards:\n",
    "The rewards provided by the environment are:\n",
    "- Reward for the winner: +1\n",
    "- Reward for the loser: -1\n",
    "- Reward when there is a draw: 0"
   ]
  },
  {
   "cell_type": "markdown",
   "metadata": {},
   "source": [
    "## Terminal states:\n",
    "\n",
    "A terminal state can be reached in the following ways:\n",
    "  - Player A creates a connect4 (i.e., four connected tokens vertically, horizontally, diagonally)\n",
    "  - Player B creates a connect4 (vertically, horizontally, diagonally)\n",
    "  - All fields are filled up and no connect4 exists\n",
    "\n",
    "### Episode Length:\n",
    "\n",
    "Episode length is not needed to be strictly enforced due to the fact that a victory condition can easily be reached and the board size is not prohibitively large."
   ]
  },
  {
   "cell_type": "markdown",
   "metadata": {},
   "source": [
    "\n",
    "## Contributions:\n",
    "- Yordan: I looked at possible ways to implement the MDP and different ways to make it work for our use case. Also, I worked together with Vladislav on understanding and implementing the base MDP.\n",
    "- Vladislav: I worked with Yordan on the understanding of the code and concepts in RL. Additionally, I was thinking about possible extentions in the next sprint.\n",
    "\n",
    "## Roles:\n",
    "Both of us are directly involved with the whole process - analysis, design, research, software development, document writing. We discuss and collaborate to ensure that everybody is on the same page all the time and is involved with the project.\n"
   ]
  },
  {
   "cell_type": "markdown",
   "metadata": {},
   "source": [
    "# Appendices\n",
    "\n",
    "## Appendix A: Code\n",
    "\n",
    "```python\n",
    "import numpy as np\n",
    "import gymnasium as gym\n",
    "from gymnasium.spaces import Box, Discrete, Tuple\n",
    "\n",
    "\n",
    "class Connect4Env(gym.Env):\n",
    "\n",
    "    def __init__(self, width=7, height=6, connect=4):\n",
    "        self.num_players = 2\n",
    "\n",
    "        self.width = width\n",
    "        self.height = height\n",
    "        self.connect = connect\n",
    "\n",
    "        player_observation_space = Box(low=0, high=1,\n",
    "                                       shape=(self.num_players + 1,\n",
    "                                              self.width, self.height),\n",
    "                                       dtype=np.int32)\n",
    "        self.observation_space = Tuple([player_observation_space\n",
    "                                        for _ in range(self.num_players)])\n",
    "        self.action_space = Tuple([Discrete(self.width) for _ in range(self.num_players)])\n",
    "\n",
    "        self.state_space_size = (self.height * self.width) ** 3\n",
    "\n",
    "        self.reset()\n",
    "\n",
    "    def reset(self):\n",
    "        \"\"\"\n",
    "        Initialises the Connect 4 gameboard.\n",
    "        \"\"\"\n",
    "        self.board = np.full((self.width, self.height), -1)\n",
    "\n",
    "        self.current_player = 0\n",
    "        self.winner = None\n",
    "        return self.get_player_observations()\n",
    "\n",
    "    def filter_observation_player_perspective(self, player: int):\n",
    "        opponent = 0 if player == 1 else 1\n",
    "        empty_positions = np.where(self.board == -1, 1, 0)\n",
    "        player_chips   = np.where(self.board == player, 1, 0)\n",
    "        opponent_chips = np.where(self.board == opponent, 1, 0)\n",
    "        return np.array([empty_positions, player_chips, opponent_chips])\n",
    "\n",
    "    def get_player_observations(self) -> list[np.ndarray]:\n",
    "        p1_state = self.filter_observation_player_perspective(0)\n",
    "        p2_state = np.array([np.copy(p1_state[0]),\n",
    "                             np.copy(p1_state[-1]), np.copy(p1_state[-2])])\n",
    "        return [p1_state, p2_state]\n",
    "\n",
    "    def step(self, movecol):\n",
    "        \"\"\"\n",
    "        Applies a move by a player to the game board, and reports the state in a format which is suitable for adversarial learning\n",
    "        \"\"\"\n",
    "        if not(movecol >= 0 and movecol <= self.width and self.board[movecol][self.height - 1] == -1):\n",
    "            raise IndexError(f'Invalid move. tried to place a chip on column {movecol} which is already full. Valid moves are: {self.get_moves()}')\n",
    "        row = self.height - 1\n",
    "        while row >= 0 and self.board[movecol][row] == -1:\n",
    "            row -= 1\n",
    "\n",
    "        row += 1\n",
    "\n",
    "        self.board[movecol][row] = self.current_player\n",
    "        self.current_player = 1 - self.current_player\n",
    "\n",
    "        self.winner, reward_vector = self.check_for_episode_termination(movecol, row)\n",
    "\n",
    "        info = {'legal_actions': self.get_moves(),\n",
    "                'current_player': self.current_player}\n",
    "        return self.get_player_observations(), reward_vector, \\\n",
    "               self.winner is not None, info\n",
    "\n",
    "    def check_for_episode_termination(self, movecol, row):\n",
    "        \"\"\"\n",
    "        Check for victories in the current state and generate rewards for the state\n",
    "        \"\"\"\n",
    "        winner, reward_vector = self.winner, [0, 0]\n",
    "        if self.does_move_win(movecol, row):\n",
    "            winner = 1 - self.current_player\n",
    "            if winner == 0: reward_vector = [1, -1]\n",
    "            elif winner == 1: reward_vector = [-1, 1]\n",
    "        elif self.get_moves() == []:  # A draw has happened\n",
    "            winner = -1\n",
    "        return winner, reward_vector\n",
    "\n",
    "    def get_moves(self):\n",
    "        \"\"\"\n",
    "        List with columns where there is a possible move\n",
    "        \"\"\"\n",
    "        if self.winner is not None:\n",
    "            return []\n",
    "        return [col for col in range(self.width) if self.board[col][self.height - 1] == -1]\n",
    "\n",
    "    def does_move_win(self, x, y):\n",
    "        \"\"\"\n",
    "        Checks whether a newly dropped chip at position param x, param y\n",
    "        wins the game.\n",
    "        \"\"\"\n",
    "        me = self.board[x][y]\n",
    "        for dx, dy in [(0, +1), (+1, +1), (+1, 0), (+1, -1)]:\n",
    "            p = 1 # positive direction\n",
    "            while self.is_on_board(x+p*dx, y+p*dy) and self.board[x+p*dx][y+p*dy] == me:\n",
    "                p += 1\n",
    "            n = 1 # negative direction\n",
    "            while self.is_on_board(x-n*dx, y-n*dy) and self.board[x-n*dx][y-n*dy] == me:\n",
    "                n += 1\n",
    "\n",
    "            if p + n >= (self.connect + 1): # want (p-1) + (n-1) + 1 >= 4, or more simply p + n >- 5\n",
    "                return True\n",
    "\n",
    "        return False\n",
    "\n",
    "    def is_on_board(self, x, y):\n",
    "        return x >= 0 and x < self.width and y >= 0 and y < self.height\n",
    "\n",
    "    def get_result(self, player):\n",
    "        if self.winner == -1: return 0  # A draw occurred\n",
    "        return +1 if player == self.winner else -1\n",
    "```"
   ]
  },
  {
   "cell_type": "markdown",
   "metadata": {},
   "source": [
    "\n",
    "# References:\n",
    "\n",
    "https://github.com/Danielhp95/gym-connect4\n",
    "\n",
    "https://en.wikipedia.org/wiki/Connect_Four\n",
    "\n",
    "https://papergames.io/en/connect4\n",
    "\n",
    "https://web.mit.edu/sp.268/www/2010/connectFourSlides.pdf\n"
   ]
  }
 ],
 "metadata": {
  "kernelspec": {
   "display_name": "Python 3 (ipykernel)",
   "language": "python",
   "name": "python3"
  },
  "language_info": {
   "codemirror_mode": {
    "name": "ipython",
    "version": 3
   },
   "file_extension": ".py",
   "mimetype": "text/x-python",
   "name": "python",
   "nbconvert_exporter": "python",
   "pygments_lexer": "ipython3",
   "version": "3.12.3"
  }
 },
 "nbformat": 4,
 "nbformat_minor": 5
}
